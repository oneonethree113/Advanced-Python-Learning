{
 "cells": [
  {
   "cell_type": "code",
   "execution_count": 1,
   "id": "465fd2d3",
   "metadata": {},
   "outputs": [
    {
     "name": "stdout",
     "output_type": "stream",
     "text": [
      "The server is listening to port 8080\n",
      "Connection has been established from  ('127.0.0.1', 64868)\n"
     ]
    }
   ],
   "source": [
    "import socket\n",
    "host='localhost'\n",
    "port=8080\n",
    "s=socket.socket(socket.AF_INET,socket.SOCK_STREAM)\n",
    "s.bind((host,port))\n",
    "\n",
    "s.listen(1)\n",
    "print(\"The server is listening to port\",port)\n",
    "con,address=s.accept()\n",
    "print(\"Connection has been established from \",str(address))\n",
    "try:\n",
    "    fileName=con.recv((1024))\n",
    "    file=open(fileName,'rb')\n",
    "    readFile=file.read()\n",
    "    con.send(readFile)\n",
    "    file.close()\n",
    "except:\n",
    "    con.send('File Not Found on the server'.encode())\n",
    "con.close()"
   ]
  },
  {
   "cell_type": "code",
   "execution_count": null,
   "id": "171e226b",
   "metadata": {},
   "outputs": [],
   "source": []
  }
 ],
 "metadata": {
  "kernelspec": {
   "display_name": "Python 3 (ipykernel)",
   "language": "python",
   "name": "python3"
  },
  "language_info": {
   "codemirror_mode": {
    "name": "ipython",
    "version": 3
   },
   "file_extension": ".py",
   "mimetype": "text/x-python",
   "name": "python",
   "nbconvert_exporter": "python",
   "pygments_lexer": "ipython3",
   "version": "3.9.12"
  }
 },
 "nbformat": 4,
 "nbformat_minor": 5
}
