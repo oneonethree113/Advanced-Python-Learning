{
  "nbformat": 4,
  "nbformat_minor": 0,
  "metadata": {
    "colab": {
      "provenance": [],
      "authorship_tag": "ABX9TyMwOxvZVHIy5ogw1pq+vM26",
      "include_colab_link": true
    },
    "kernelspec": {
      "name": "python3",
      "display_name": "Python 3"
    },
    "language_info": {
      "name": "python"
    }
  },
  "cells": [
    {
      "cell_type": "markdown",
      "metadata": {
        "id": "view-in-github",
        "colab_type": "text"
      },
      "source": [
        "<a href=\"https://colab.research.google.com/github/oneonethree113/Advanced-Python-Learning/blob/main/Magic_Methods.ipynb\" target=\"_parent\"><img src=\"https://colab.research.google.com/assets/colab-badge.svg\" alt=\"Open In Colab\"/></a>"
      ]
    },
    {
      "cell_type": "code",
      "execution_count": 1,
      "metadata": {
        "id": "I_SzNiq1kf_F",
        "colab": {
          "base_uri": "https://localhost:8080/"
        },
        "outputId": "256ac261-481a-483a-e29a-36fa912597bf"
      },
      "outputs": [
        {
          "output_type": "stream",
          "name": "stdout",
          "text": [
            "7\n"
          ]
        }
      ],
      "source": [
        "class x:\n",
        "  def __init__(self,a,b):\n",
        "    self.a=a\n",
        "    self.b=b\n",
        "  def sum(self):\n",
        "    return self.a+self.b\n",
        "\n",
        "obj1=x(3,4)\n",
        "print(obj1.sum())\n"
      ]
    },
    {
      "cell_type": "code",
      "source": [
        "obj2=x(4,3)\n"
      ],
      "metadata": {
        "id": "Tu_txsf7q_d3"
      },
      "execution_count": null,
      "outputs": []
    },
    {
      "cell_type": "code",
      "source": [
        "class Addition:\n",
        "  def __init__(self,*arguments ):\n",
        "    if len(arguments)==0:\n",
        "      self.numbers=(0,0)\n",
        "\n",
        "    else:\n",
        "      self.numbers=arguments\n",
        "  def __add__(self,other):\n",
        "    sum=tuple(x+y for x,y in zip(self.numbers,other.numbers))\n",
        "    return Addition(*sum)\n",
        "  def __mul__(self,other):\n",
        "    mul=tuple(x*y for x,y in zip(self.numbers,other.numbers))\n",
        "    return Addition(*mul)\n",
        "\n",
        "obj1=Addition(2,3,9)\n",
        "obj2=Addition(5,4,7)\n",
        "obj3=obj1+obj2\n",
        "\n",
        "obj4=obj3*obj1\n",
        "print(obj3.numbers)\n",
        "print(obj4.numbers)"
      ],
      "metadata": {
        "colab": {
          "base_uri": "https://localhost:8080/"
        },
        "id": "VQ8Pf1cAsNEb",
        "outputId": "307af914-043c-4e57-975c-892f08212e55"
      },
      "execution_count": 5,
      "outputs": [
        {
          "output_type": "stream",
          "name": "stdout",
          "text": [
            "(7, 7, 16)\n",
            "(14, 21, 144)\n"
          ]
        }
      ]
    },
    {
      "cell_type": "code",
      "source": [],
      "metadata": {
        "colab": {
          "base_uri": "https://localhost:8080/",
          "height": 243
        },
        "id": "js0N01zPxT_W",
        "outputId": "f87e69a0-3adf-47f7-d09f-2a830d2de8dd"
      },
      "execution_count": 7,
      "outputs": [
        {
          "output_type": "error",
          "ename": "TypeError",
          "evalue": "ignored",
          "traceback": [
            "\u001b[0;31m---------------------------------------------------------------------------\u001b[0m",
            "\u001b[0;31mTypeError\u001b[0m                                 Traceback (most recent call last)",
            "\u001b[0;32m<ipython-input-7-fdbec6cbe6de>\u001b[0m in \u001b[0;36m<module>\u001b[0;34m\u001b[0m\n\u001b[1;32m      4\u001b[0m     \u001b[0;32mreturn\u001b[0m \u001b[0mdictionary\u001b[0m\u001b[0;34m(\u001b[0m\u001b[0mself\u001b[0m\u001b[0;34m)\u001b[0m\u001b[0;34m\u001b[0m\u001b[0;34m\u001b[0m\u001b[0m\n\u001b[1;32m      5\u001b[0m \u001b[0;34m\u001b[0m\u001b[0m\n\u001b[0;32m----> 6\u001b[0;31m \u001b[0mdict1\u001b[0m\u001b[0;34m=\u001b[0m\u001b[0mdictionary\u001b[0m\u001b[0;34m(\u001b[0m\u001b[0;34m{\u001b[0m\u001b[0;34m'firstname'\u001b[0m\u001b[0;34m:\u001b[0m\u001b[0;34m'YH'\u001b[0m\u001b[0;34m}\u001b[0m\u001b[0;34m)\u001b[0m\u001b[0;34m\u001b[0m\u001b[0;34m\u001b[0m\u001b[0m\n\u001b[0m\u001b[1;32m      7\u001b[0m \u001b[0mdict2\u001b[0m\u001b[0;34m=\u001b[0m\u001b[0mdictionary\u001b[0m\u001b[0;34m(\u001b[0m\u001b[0;34m{\u001b[0m\u001b[0;34m'lastname'\u001b[0m\u001b[0;34m:\u001b[0m\u001b[0;34m'Li'\u001b[0m\u001b[0;34m}\u001b[0m\u001b[0;34m)\u001b[0m\u001b[0;34m\u001b[0m\u001b[0;34m\u001b[0m\u001b[0m\n\u001b[1;32m      8\u001b[0m \u001b[0mprint\u001b[0m\u001b[0;34m(\u001b[0m\u001b[0mdict1\u001b[0m\u001b[0;34m,\u001b[0m\u001b[0mdict2\u001b[0m\u001b[0;34m)\u001b[0m\u001b[0;34m\u001b[0m\u001b[0;34m\u001b[0m\u001b[0m\n",
            "\u001b[0;31mTypeError\u001b[0m: dictionary() takes no arguments"
          ]
        }
      ]
    }
  ]
}