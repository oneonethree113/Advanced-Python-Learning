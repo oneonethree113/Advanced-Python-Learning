{
 "cells": [
  {
   "cell_type": "code",
   "execution_count": 1,
   "id": "17e8dcfd",
   "metadata": {},
   "outputs": [
    {
     "ename": "IndentationError",
     "evalue": "expected an indented block (2369422631.py, line 23)",
     "output_type": "error",
     "traceback": [
      "\u001b[1;36m  Input \u001b[1;32mIn [1]\u001b[1;36m\u001b[0m\n\u001b[1;33m    if __name__=='____':\u001b[0m\n\u001b[1;37m    ^\u001b[0m\n\u001b[1;31mIndentationError\u001b[0m\u001b[1;31m:\u001b[0m expected an indented block\n"
     ]
    }
   ],
   "source": [
    "import socket\n",
    "from threading import Thread\n",
    "\n",
    "clients={}\n",
    "address={}\n",
    "\n",
    "Host='127.0.0.1'\n",
    "Port=8080\n",
    "\n",
    "\n",
    "s=socket.socket(socket.AF_INET,socket.SOCK_STREAM)\n",
    "s.bind((host,port))\n",
    "\n",
    "def accept_client_connections():\n",
    "    while True:\n",
    "        client_con,client_address=s.accept()\n",
    "        print(client_address,\" has connected\")\n",
    "        client_con.send(\"Welcome to the chat room! Who are you?\".encode('utf8'))\n",
    "        address[client_con]=client_address\n",
    "        Thread(target=handle_client,args=(client_con,client_address)).start()\n",
    "\n",
    "def broadcase(msg,prefix=\"\"):\n",
    "    for x in clients:\n",
    "        x.send(bytes(prefix,'utf8')+msg)\n",
    "    \n",
    "def handle_client(conn,addr):\n",
    "    name=conn.recv(1024).decode()\n",
    "    welcome='Welcome '+name+' you can type #quit to quit the caht room'\n",
    "    conn.send(bytes(welcome,utf8))\n",
    "    msg=name+ ' has recently joined the chat room'\n",
    "    broadcast(bytes(mas,'utf8'))\n",
    "    clients[coon]=name\n",
    "                    \n",
    "    while True:\n",
    "        msg=conn.recv(1024)\n",
    "        if msg!=bytes('#quit','utf8'):\n",
    "            broadcase(msg,name+':')\n",
    "        else:\n",
    "            conn.send(bytes('#quit','utf8'))\n",
    "            conn.close()\n",
    "            del client[conn]\n",
    "            broadcase(bytes(name+' has left the chatroom'))\n",
    "            break\n",
    "    \n",
    "if __name__=='____':\n",
    "    s.listen(5)\n",
    "    print('The server is now listening to clients requests')\n",
    "    t1 =Thread(target=accept_client_connections)\n",
    "    t1.start()\n",
    "    t1.join()"
   ]
  },
  {
   "cell_type": "code",
   "execution_count": null,
   "id": "42ccbd00",
   "metadata": {},
   "outputs": [],
   "source": []
  }
 ],
 "metadata": {
  "kernelspec": {
   "display_name": "Python 3 (ipykernel)",
   "language": "python",
   "name": "python3"
  },
  "language_info": {
   "codemirror_mode": {
    "name": "ipython",
    "version": 3
   },
   "file_extension": ".py",
   "mimetype": "text/x-python",
   "name": "python",
   "nbconvert_exporter": "python",
   "pygments_lexer": "ipython3",
   "version": "3.9.12"
  }
 },
 "nbformat": 4,
 "nbformat_minor": 5
}
