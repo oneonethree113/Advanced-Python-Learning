{
 "cells": [
  {
   "cell_type": "markdown",
   "id": "6ee1cfea",
   "metadata": {},
   "source": [
    "Graph question is one of the most popular type of question in hackerrank. The questions provide your a graph (Usually in form of a set of vectors and edges.) and ask you to solve some questions about it. What is the typical process? Here is an example:"
   ]
  },
  {
   "cell_type": "markdown",
   "id": "46d78f8f",
   "metadata": {},
   "source": [
    "There is n nodes and the edges set E. What is the size largest cluter?"
   ]
  },
  {
   "cell_type": "code",
   "execution_count": 124,
   "id": "d31e916c",
   "metadata": {},
   "outputs": [],
   "source": [
    "\n",
    "nodes=['A','B','C','D','E','F','G']\n",
    "edges=[('C','B'), ('B','A'), ('C','A'), ('E', 'D'),('A','F')]\n",
    "\n"
   ]
  },
  {
   "cell_type": "code",
   "execution_count": 125,
   "id": "da0afe96",
   "metadata": {},
   "outputs": [],
   "source": []
  },
  {
   "cell_type": "markdown",
   "id": "9a08f7b4",
   "metadata": {},
   "source": [
    "Let's show the graph first"
   ]
  },
  {
   "cell_type": "code",
   "execution_count": 103,
   "id": "e5d8e1f2",
   "metadata": {},
   "outputs": [
    {
     "data": {
      "image/png": "[encoded data removed]",
      "text/plain": [
       "<Figure size 432x288 with 1 Axes>"
      ]
     },
     "metadata": {},
     "output_type": "display_data"
    }
   ],
   "source": [
    "import networkx as nx\n",
    "import matplotlib.pyplot as plt\n",
    "def drawNetwork(V,E):\n",
    "    G = nx.Graph()\n",
    "    G.add_nodes_from(V)\n",
    "    G.add_edges_from(E)\n",
    "    pos = nx.spring_layout(G, seed=1) \n",
    "    nx.draw_networkx_nodes(G, pos, node_size=300)\n",
    "    nx.draw_networkx_labels(G, pos, font_size=20, font_family=\"sans-serif\")\n",
    "    nx.draw_networkx_edges(G, pos,  width=6)\n",
    "drawNetwork(nodes,edges)"
   ]
  },
  {
   "cell_type": "markdown",
   "id": "c9ea612f",
   "metadata": {},
   "source": [
    "Obversely, the size of largest cluster is 4 (node A,B,C,F). but how to get this 4?"
   ]
  },
  {
   "cell_type": "markdown",
   "id": "f7b225a1",
   "metadata": {},
   "source": [
    "For convinient.Lets convert all nodes to node 0, node 1....node N"
   ]
  },
  {
   "cell_type": "code",
   "execution_count": 126,
   "id": "9e3f77a0",
   "metadata": {},
   "outputs": [],
   "source": [
    "\n",
    "\n",
    "nodesToVDict={v:e for e,v in enumerate(nodes)}\n",
    "VTonodeDict={e:v for e,v in enumerate(nodes)}\n",
    "V=[nodesToVDict[n] for n in nodes]\n",
    "E=[(nodesToVDict[n1],nodesToVDict[n2] ) for n1,n2 in edges]"
   ]
  },
  {
   "cell_type": "code",
   "execution_count": 127,
   "id": "a4e2312f",
   "metadata": {},
   "outputs": [
    {
     "data": {
      "image/png": "[encoded data removed]",
      "text/plain": [
       "<Figure size 432x288 with 1 Axes>"
      ]
     },
     "metadata": {},
     "output_type": "display_data"
    }
   ],
   "source": [
    "drawNetwork(V,E)"
   ]
  },
  {
   "cell_type": "markdown",
   "id": "6e9ddf05",
   "metadata": {},
   "source": [
    "Then, convert the edges to a Adjacency matrix ( https://en.wikipedia.org/wiki/Adjacency_matrix ). Adjacency matrix can show the neighbor of nodes much more clearer than the edge set. It is very useful for the following process. You dont have to loop though the entire edge list to find the neighbors, Especially if the graph is very dense, adjacency matrix helps you reduce a lot of the complexity. \n"
   ]
  },
  {
   "cell_type": "code",
   "execution_count": 108,
   "id": "9d575e64",
   "metadata": {},
   "outputs": [
    {
     "name": "stdout",
     "output_type": "stream",
     "text": [
      "Adjacency matrix [[1, 2, 5], [2, 0], [1, 0], [4], [3], [0], []]\n",
      "The neighbor of node 1: [2, 0]\n"
     ]
    }
   ],
   "source": [
    "adj=[[] for _ in V]\n",
    "for n1,n2 in E:\n",
    "    adj[n1].append(n2)\n",
    "    adj[n2].append(n1)\n",
    "print('Adjacency matrix',adj)\n",
    "\n",
    "def findNeighborWithAdjMartrix(target):\n",
    "    return adj[target]\n",
    "print('The neighbor of node 1:',findNeighborWithAdjMartrix(1))"
   ]
  },
  {
   "cell_type": "markdown",
   "id": "bf06b0ba",
   "metadata": {},
   "source": [
    "As comparing, let's loop though the entire list to find the neighbors of node 1: we can see we have to loop the list of edges everytime"
   ]
  },
  {
   "cell_type": "code",
   "execution_count": 111,
   "id": "3b4e8c85",
   "metadata": {},
   "outputs": [
    {
     "name": "stdout",
     "output_type": "stream",
     "text": [
      "The neighbor of node 1: [2, 0]\n"
     ]
    }
   ],
   "source": [
    "\n",
    "\n",
    "def findNeighborWithEdgeList(target):\n",
    "    neighbors=[]\n",
    "    for n1,n2 in E:\n",
    "        if n1==target:\n",
    "            neighbors.append(n2)\n",
    "        if n2==target:\n",
    "            neighbors.append(n1)\n",
    "    return neighbors\n",
    "\n",
    "print('The neighbor of node 1:',findNeighborWithEdgeList(1))"
   ]
  },
  {
   "cell_type": "markdown",
   "id": "ba1e18e7",
   "metadata": {},
   "source": [
    "Now let's write a recursive function to find the size of each cluster.\n",
    "Firstly lets mark all node with a False label. If the label is False, that means the node has been not yet assigned to any cluster.\n",
    "\n",
    "The idea of the function is 'the size of cluster of node n=1 (node n itself) +size of cluster(s) of all neighbors'"
   ]
  },
  {
   "cell_type": "code",
   "execution_count": null,
   "id": "93ee593e",
   "metadata": {},
   "outputs": [],
   "source": []
  },
  {
   "cell_type": "code",
   "execution_count": 131,
   "id": "a8e32857",
   "metadata": {},
   "outputs": [
    {
     "name": "stdout",
     "output_type": "stream",
     "text": [
      "Cluster A size: 4\n",
      "Cluster D size: 2\n",
      "Cluster G size: 1\n",
      "----------\n",
      "Largest size is 4\n"
     ]
    }
   ],
   "source": [
    "#store the size of cluster. The key is the node with smallest label in the cluster\n",
    "clusterSize={}\n",
    "\n",
    "#recurcive version\n",
    "marked=[False for _ in V]\n",
    "def getSizeOfNode(node):\n",
    "    if marked[node]:\n",
    "        return 0\n",
    "    marked[node]=True\n",
    "    size=1\n",
    "    for neighbor in adj[node]:\n",
    "        if marked[neighbor]:\n",
    "            continue\n",
    "        else:\n",
    "            size+=getSizeOfNode(neighbor)\n",
    "    return size\n",
    "\n",
    "for i in V:\n",
    "    size=getSizeOfNode(i)\n",
    "    if size>0:\n",
    "        clusterSize[i]=size\n",
    "for cluster,size in clusterSize.items():\n",
    "    print('Cluster',cluster,'size:',size)\n",
    "print('-'*10)\n",
    "print('Largest size is',max([size for cluster,size in clusterSize.items()]))"
   ]
  },
  {
   "cell_type": "markdown",
   "id": "d5a94053",
   "metadata": {},
   "source": [
    "OK we have got the answer, but how about the question asking us what the largest cluster was? Just make a few change of the function. Add a dict to store the nodes in the cluster."
   ]
  },
  {
   "cell_type": "code",
   "execution_count": 133,
   "id": "6656f1cf",
   "metadata": {},
   "outputs": [
    {
     "name": "stdout",
     "output_type": "stream",
     "text": [
      "Cluster seed 0  with nodes: [0, 1, 2, 5]\n",
      "Cluster seed 3  with nodes: [3, 4]\n",
      "Cluster seed 6  with nodes: [6]\n",
      "----------\n",
      "Largest cluster is cluster 0 with nodes [0, 1, 2, 5] . The size is 4\n"
     ]
    }
   ],
   "source": [
    "#store the size of cluster. The key is the node with smallest label in the cluster\n",
    "clusterSize={}\n",
    "#store the cluster. The key is the node with smallest label in the cluster\n",
    "clusters={n:[] for n in V}\n",
    "\n",
    "#recurcive version\n",
    "marked=[False for _ in V]\n",
    "def getSizeOfNode(node,seedOfCluster):\n",
    "    if marked[node]:\n",
    "        return 0\n",
    "    marked[node]=True\n",
    "    #############Assign the current node to the cluster#####################\n",
    "    \n",
    "    clusters[seedOfCluster].append(node)\n",
    "    #######################################################################\n",
    "    size=1\n",
    "    for neighbor in adj[node]:\n",
    "        if marked[neighbor]:\n",
    "            continue\n",
    "        else:\n",
    "            size+=getSizeOfNode(neighbor,seedOfCluster)\n",
    "    return size\n",
    "\n",
    "for node in V:\n",
    "    size=getSizeOfNode(node,node)\n",
    "    \n",
    "    if size>0:\n",
    "        clusterSize[node]=size\n",
    "for cluster,nodes in clusters.items():\n",
    "    if len(nodes)>0:\n",
    "        print('Cluster seed', cluster,' with nodes:', nodes)\n",
    "\n",
    "print('-'*10)\n",
    "seedOfLargestCluster=max(clusterSize, key=clusterSize.get)# max([size for cluster,size in clusterSize.items()])\n",
    "\n",
    "print('Largest cluster is cluster',seedOfLargestCluster,'with nodes',clusters[seedOfLargestCluster],'. The size is',clusterSize[seedOfLargestCluster])"
   ]
  },
  {
   "cell_type": "code",
   "execution_count": 92,
   "id": "69aa8fae",
   "metadata": {},
   "outputs": [
    {
     "data": {
      "text/plain": [
       "{0: [0, 1, 2, 5], 3: [3, 4], 6: [6]}"
      ]
     },
     "execution_count": 92,
     "metadata": {},
     "output_type": "execute_result"
    }
   ],
   "source": [
    "clusters"
   ]
  },
  {
   "cell_type": "code",
   "execution_count": null,
   "id": "b63ebe82",
   "metadata": {},
   "outputs": [],
   "source": []
  }
 ],
 "metadata": {
  "kernelspec": {
   "display_name": "Python 3 (ipykernel)",
   "language": "python",
   "name": "python3"
  },
  "language_info": {
   "codemirror_mode": {
    "name": "ipython",
    "version": 3
   },
   "file_extension": ".py",
   "mimetype": "text/x-python",
   "name": "python",
   "nbconvert_exporter": "python",
   "pygments_lexer": "ipython3",
   "version": "3.9.12"
  }
 },
 "nbformat": 4,
 "nbformat_minor": 5
}
