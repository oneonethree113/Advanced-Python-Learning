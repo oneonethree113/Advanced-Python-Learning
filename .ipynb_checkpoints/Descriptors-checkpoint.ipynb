{
 "cells": [
  {
   "cell_type": "code",
   "execution_count": 10,
   "id": "7de07b08",
   "metadata": {},
   "outputs": [
    {
     "name": "stdout",
     "output_type": "stream",
     "text": [
      "0\n",
      "-17.77777777777778\n"
     ]
    }
   ],
   "source": [
    "\n",
    "class cel: \n",
    "    def __get__(self,instance, owner):\n",
    "        return 5*(instance.x-32)/9\n",
    "    def __set__(self,instance,value):\n",
    "        instance.x= 5*(value-32)/9\n",
    "    \n",
    "class Temp:\n",
    "    y=cel()\n",
    "    def __init__(self,x):\n",
    "        self.x=x\n",
    "t=Temp(112)\n",
    "t.x=0\n",
    "print(t.x)\n",
    "print(t.y)"
   ]
  },
  {
   "cell_type": "code",
   "execution_count": 35,
   "id": "ce4a4adf",
   "metadata": {},
   "outputs": [
    {
     "name": "stdout",
     "output_type": "stream",
     "text": [
      "0.0\n",
      "32.0\n"
     ]
    }
   ],
   "source": [
    "\n",
    "class temp:\n",
    "    class cel: \n",
    "        def __init__(self,value=0.0):\n",
    "            self.value=float(value)\n",
    "        def __get__(self,instance, owner):\n",
    "            return self.value\n",
    "        def __set__(self,instance,value):\n",
    "            self.value=float(value)\n",
    "    class feh:\n",
    "        def __get__(self,instance,owner):\n",
    "            return instance.cel*9/5+32\n",
    "        def __set__(self,instance,value):\n",
    "            instance.cel=(float(value)-32)*5/9\n",
    "    cel=cel()\n",
    "    feh=feh()\n",
    "t=temp()\n",
    "print(t.cel)\n",
    "print(t.feh)\n",
    "      \n"
   ]
  },
  {
   "cell_type": "code",
   "execution_count": 36,
   "id": "2234ae31",
   "metadata": {},
   "outputs": [
    {
     "name": "stdout",
     "output_type": "stream",
     "text": [
      "100.0\n",
      "212.0\n"
     ]
    }
   ],
   "source": [
    "t.cel=100\n",
    "print(t.cel)\n",
    "print(t.feh)\n",
    "      "
   ]
  },
  {
   "cell_type": "code",
   "execution_count": null,
   "id": "69409e8c",
   "metadata": {},
   "outputs": [],
   "source": []
  }
 ],
 "metadata": {
  "kernelspec": {
   "display_name": "Python 3 (ipykernel)",
   "language": "python",
   "name": "python3"
  },
  "language_info": {
   "codemirror_mode": {
    "name": "ipython",
    "version": 3
   },
   "file_extension": ".py",
   "mimetype": "text/x-python",
   "name": "python",
   "nbconvert_exporter": "python",
   "pygments_lexer": "ipython3",
   "version": "3.9.12"
  }
 },
 "nbformat": 4,
 "nbformat_minor": 5
}
