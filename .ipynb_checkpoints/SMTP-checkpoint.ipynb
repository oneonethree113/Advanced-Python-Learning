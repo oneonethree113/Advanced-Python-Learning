{
 "cells": [
  {
   "cell_type": "code",
   "execution_count": 10,
   "id": "42b3cb95",
   "metadata": {},
   "outputs": [],
   "source": [
    "import smtplib \n",
    "from email.mime.multipart import MIMEMultipart\n",
    "from email.mime.text import MIMEText\n",
    "from email.mime.base import MIMEBase\n",
    "from email import encoders"
   ]
  },
  {
   "cell_type": "code",
   "execution_count": 6,
   "id": "33b834f9",
   "metadata": {},
   "outputs": [
    {
     "name": "stdout",
     "output_type": "stream",
     "text": [
      "Connection suc\n"
     ]
    }
   ],
   "source": [
    "host='smtp.gmail.com'\n",
    "port=587\n",
    "userName='xxxxxx@gmail.com'\n",
    "password='xxxxxx'\n",
    "try:\n",
    "    connection =smtplib.SMTP(host,port)\n",
    "    connection.ehlo()\n",
    "    connection.starttls()\n",
    "    print('Connection suc')\n",
    "except:\n",
    "    print('Connection Error')\n"
   ]
  },
  {
   "cell_type": "code",
   "execution_count": 7,
   "id": "6e8aa277",
   "metadata": {},
   "outputs": [
    {
     "data": {
      "text/plain": [
       "(235, b'2.7.0 Accepted')"
      ]
     },
     "execution_count": 7,
     "metadata": {},
     "output_type": "execute_result"
    }
   ],
   "source": [
    "connection.login(userName,password)"
   ]
  },
  {
   "cell_type": "code",
   "execution_count": 8,
   "id": "34d18763",
   "metadata": {},
   "outputs": [
    {
     "data": {
      "text/plain": [
       "(221,\n",
       " b'2.0.0 closing connection t6-20020a637806000000b004fb71d96d78sm2756658pgc.2 - gsmtp')"
      ]
     },
     "execution_count": 8,
     "metadata": {},
     "output_type": "execute_result"
    }
   ],
   "source": [
    "msg=MIMEMultipart('alternative')\n",
    "msg['Subject']='Sub'\n",
    "\n",
    "_from=userName+'-------------'\n",
    "_to=userName\n",
    "msg['From']=_from\n",
    "\n",
    "msg['To']=_to\n",
    "\n",
    "html_msg='<html><h1>Python</h1></html>'\n",
    "html_msg=MIMEText(html_msg,'html')\n",
    "p='FFFFFFFF'\n",
    "html_msgp=MIMEText(p,'plain')\n",
    "msg.attach(html_msg)\n",
    "msg.attach(html_msgp)\n",
    "connection.sendmail(_from,_to,msg.as_string())\n",
    "connection.quit()"
   ]
  },
  {
   "cell_type": "code",
   "execution_count": null,
   "id": "6b24c0b0",
   "metadata": {},
   "outputs": [],
   "source": []
  },
  {
   "cell_type": "code",
   "execution_count": 13,
   "id": "a4ee6213",
   "metadata": {},
   "outputs": [
    {
     "name": "stdout",
     "output_type": "stream",
     "text": [
      "Connection suc\n"
     ]
    },
    {
     "data": {
      "text/plain": [
       "(221,\n",
       " b'2.0.0 closing connection o23-20020a63fb17000000b004fb1310c1c3sm5550213pgh.69 - gsmtp')"
      ]
     },
     "execution_count": 13,
     "metadata": {},
     "output_type": "execute_result"
    }
   ],
   "source": [
    "\n",
    "try:\n",
    "    connection =smtplib.SMTP(host,port)\n",
    "    connection.ehlo()\n",
    "    connection.starttls()\n",
    "    connection.login(userName,password)\n",
    "    print('Connection suc')\n",
    "except:\n",
    "    print('Connection Error')\n",
    "msg=MIMEMultipart()\n",
    "\n",
    "p='FFFFFFFF'\n",
    "html_msgp=MIMEText(p,'plain')\n",
    "msg.attach(html_msgp)\n",
    "filename='test.txt'\n",
    "openfile=open(filename,'rb')\n",
    "mimref=MIMEBase('application','octect_stream')\n",
    "mimref.set_payload((openfile.read()))\n",
    "encoders.encode_base64(mimref)\n",
    "mimref.add_header('Content-Dispostion','openfile;filename='+filename)\n",
    "\n",
    "msg.attach(mimref)\n",
    "\n",
    "\n",
    "connection.sendmail(_from,_to,msg.as_string())\n",
    "connection.quit()"
   ]
  },
  {
   "cell_type": "code",
   "execution_count": null,
   "id": "dbb677ea",
   "metadata": {},
   "outputs": [],
   "source": []
  }
 ],
 "metadata": {
  "kernelspec": {
   "display_name": "Python 3 (ipykernel)",
   "language": "python",
   "name": "python3"
  },
  "language_info": {
   "codemirror_mode": {
    "name": "ipython",
    "version": 3
   },
   "file_extension": ".py",
   "mimetype": "text/x-python",
   "name": "python",
   "nbconvert_exporter": "python",
   "pygments_lexer": "ipython3",
   "version": "3.9.12"
  }
 },
 "nbformat": 4,
 "nbformat_minor": 5
}
