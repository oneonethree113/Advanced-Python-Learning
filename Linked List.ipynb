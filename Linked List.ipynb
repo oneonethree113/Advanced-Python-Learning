{
 "cells": [
  {
   "cell_type": "code",
   "execution_count": 31,
   "id": "d1a67853",
   "metadata": {},
   "outputs": [],
   "source": [
    "class Node:\n",
    "    def __init__(self,data=None):\n",
    "        self.data=data\n",
    "        self.next=None\n",
    "class SLL:#Single linked list\n",
    "    def  __init__(self):\n",
    "        self.head=None\n",
    "    def listPrint(self)    :\n",
    "        output=self.head\n",
    "        while output is not None:\n",
    "            print(output.data)\n",
    "            output=output.next\n",
    "        print('-'*10)\n",
    "    def getCount(self):\n",
    "        tmp=self.head\n",
    "        count=0\n",
    "        while (tmp):\n",
    "            count+=1\n",
    "            tmp=tmp.next\n",
    "        return count\n",
    "    def AtEnd(self,newdata):\n",
    "        newNode=Node(newdata)\n",
    "        if self.head==None:\n",
    "            self.head=newNode\n",
    "            return\n",
    "        tail=self.head\n",
    "        while tail.next:\n",
    "            tail=tail.next\n",
    "        tail.next=newNode\n",
    "    def AtStart(self,newData):\n",
    "        newNode=Node(newData)\n",
    "        newNode.next=self.head\n",
    "        self.head=newNode\n",
    "    def Inbetween(self,middle_node,newdata):\n",
    "        if middle_node is None:\n",
    "            print('The Mentioned Node does not exist')\n",
    "        newNode=Node(newdata)\n",
    "        newNode.next=middle_node.next\n",
    "        middle_node.next=newNode\n",
    "    def remove_dulicates(self):\n",
    "        ptr1=None\n",
    "        ptr2=None\n",
    "        dup=None\n",
    "        ptr1=self.head\n",
    "        \n",
    "        while(ptr1!= None and ptr1.next!=None):\n",
    "            ptr2=ptr1\n",
    "            while ptr2.next!=None:\n",
    "                \n",
    "                if ptr1.data==ptr2.next.data:\n",
    "                    dep=ptr2.next\n",
    "                    ptr2.next=ptr2.next.next\n",
    "                else:\n",
    "                    ptr2=ptr2.next\n",
    "            ptr1=ptr1.next\n",
    "            \n",
    "    def delNode(self,removeData):\n",
    "        \n",
    "        if self.head==None:\n",
    "            return\n",
    "        curNode=self.head\n",
    "        if curNode.data==removeData:\n",
    "            self.head=curNode.next\n",
    "            curNode=None\n",
    "            return\n",
    "        \n",
    "        while curNode.next:\n",
    "            if curNode.data==removeData:\n",
    "                break\n",
    "            prevNode=curNode\n",
    "            curNode=curNode.next\n",
    "        if curNode ==None:\n",
    "            return\n",
    "        prevNode.next=curNode.next\n",
    "        curNode=None"
   ]
  },
  {
   "cell_type": "code",
   "execution_count": 32,
   "id": "7574bd5b",
   "metadata": {},
   "outputs": [
    {
     "name": "stdout",
     "output_type": "stream",
     "text": [
      "Mon\n",
      "Tues\n",
      "Wed\n",
      "----------\n",
      "AtEnd\n",
      "Mon\n",
      "Tues\n",
      "Wed\n",
      "Thur\n",
      "----------\n",
      "AtStart\n",
      "Sat\n",
      "Mon\n",
      "Tues\n",
      "Wed\n",
      "Thur\n",
      "----------\n",
      "Inbetween\n",
      "Sat\n",
      "Sun\n",
      "Mon\n",
      "Tues\n",
      "Wed\n",
      "Thur\n",
      "----------\n",
      "delNode\n",
      "Sat\n",
      "Mon\n",
      "Tues\n",
      "Wed\n",
      "Thur\n",
      "----------\n",
      "Mon\n",
      "Tues\n",
      "Wed\n",
      "Thur\n",
      "----------\n",
      "Mon\n",
      "Tues\n",
      "Wed\n",
      "----------\n"
     ]
    }
   ],
   "source": [
    "list1=SLL()\n",
    "list1.head=Node('Mon')\n",
    "e2=Node('Tues')\n",
    "e3=Node('Wed')\n",
    "list1.head.next=e2\n",
    "e2.next=e3\n",
    "list1.listPrint()\n",
    "print('AtEnd')\n",
    "list1.AtEnd('Thur')\n",
    "list1.listPrint()\n",
    "\n",
    "print('AtStart')\n",
    "list1.AtStart('Sat')\n",
    "list1.listPrint()\n",
    "\n",
    "print('Inbetween')\n",
    "list1.Inbetween(list1.head,'Sun')\n",
    "list1.listPrint()\n",
    "\n",
    "print('delNode')\n",
    "list1.delNode('Sun')\n",
    "list1.listPrint()\n",
    "list1.delNode('Sat')\n",
    "list1.listPrint()\n",
    "list1.delNode('Thus')\n",
    "list1.listPrint()"
   ]
  },
  {
   "cell_type": "code",
   "execution_count": 33,
   "id": "76158d7e",
   "metadata": {},
   "outputs": [],
   "source": [
    "\n",
    "list1.Inbetween(list1.head.next,'Sun')\n",
    "list1.Inbetween(list1.head.next,'Sun')\n",
    "list1.Inbetween(list1.head.next.next,'Sun')"
   ]
  },
  {
   "cell_type": "code",
   "execution_count": 34,
   "id": "26d353f2",
   "metadata": {},
   "outputs": [
    {
     "name": "stdout",
     "output_type": "stream",
     "text": [
      "Mon\n",
      "Tues\n",
      "Sun\n",
      "Sun\n",
      "Sun\n",
      "Wed\n",
      "----------\n"
     ]
    }
   ],
   "source": [
    "\n",
    "list1.listPrint()"
   ]
  },
  {
   "cell_type": "code",
   "execution_count": 36,
   "id": "53217ef7",
   "metadata": {},
   "outputs": [
    {
     "name": "stdout",
     "output_type": "stream",
     "text": [
      "Mon\n",
      "Tues\n",
      "Sun\n",
      "Wed\n",
      "----------\n"
     ]
    }
   ],
   "source": [
    "list1.remove_dulicates()\n",
    "list1.listPrint()"
   ]
  },
  {
   "cell_type": "code",
   "execution_count": null,
   "id": "4959c896",
   "metadata": {},
   "outputs": [],
   "source": []
  }
 ],
 "metadata": {
  "kernelspec": {
   "display_name": "Python 3 (ipykernel)",
   "language": "python",
   "name": "python3"
  },
  "language_info": {
   "codemirror_mode": {
    "name": "ipython",
    "version": 3
   },
   "file_extension": ".py",
   "mimetype": "text/x-python",
   "name": "python",
   "nbconvert_exporter": "python",
   "pygments_lexer": "ipython3",
   "version": "3.9.12"
  }
 },
 "nbformat": 4,
 "nbformat_minor": 5
}
