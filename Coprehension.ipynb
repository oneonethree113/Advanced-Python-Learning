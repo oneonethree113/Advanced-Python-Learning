{
 "cells": [
  {
   "cell_type": "code",
   "execution_count": 2,
   "id": "8733cf98",
   "metadata": {},
   "outputs": [],
   "source": [
    "feh={'temp1':10,'temp2':20,'temp3':30,'temp4':40,}\n",
    "cel=list(map(lambda x: float(5)/9*(x-21),feh.values()))"
   ]
  },
  {
   "cell_type": "code",
   "execution_count": 5,
   "id": "e723a14f",
   "metadata": {},
   "outputs": [
    {
     "data": {
      "text/plain": [
       "(<function __main__.<lambda>(x)>, dict_values([10, 20, 30, 40]))"
      ]
     },
     "execution_count": 5,
     "metadata": {},
     "output_type": "execute_result"
    }
   ],
   "source": [
    "lambda x: float(5)/9*(x-21),feh.values()"
   ]
  },
  {
   "cell_type": "code",
   "execution_count": 7,
   "id": "d2ee1c89",
   "metadata": {},
   "outputs": [
    {
     "data": {
      "text/plain": [
       "{'temp1': -6.111111111111112,\n",
       " 'temp2': -0.5555555555555556,\n",
       " 'temp3': 5.0,\n",
       " 'temp4': 10.555555555555555}"
      ]
     },
     "execution_count": 7,
     "metadata": {},
     "output_type": "execute_result"
    }
   ],
   "source": [
    "cel_dict=dict(zip(feh.keys(),cel))\n",
    "cel_dict"
   ]
  },
  {
   "cell_type": "code",
   "execution_count": 8,
   "id": "36aed155",
   "metadata": {},
   "outputs": [
    {
     "data": {
      "text/plain": [
       "{'temp1': -6.111111111111112,\n",
       " 'temp2': -0.5555555555555556,\n",
       " 'temp3': 5.0,\n",
       " 'temp4': 10.555555555555555}"
      ]
     },
     "execution_count": 8,
     "metadata": {},
     "output_type": "execute_result"
    }
   ],
   "source": [
    "cel_dict"
   ]
  },
  {
   "cell_type": "code",
   "execution_count": 10,
   "id": "e9981671",
   "metadata": {},
   "outputs": [
    {
     "data": {
      "text/plain": [
       "{'temp1': -6.111111111111112,\n",
       " 'temp2': -0.5555555555555556,\n",
       " 'temp3': 5.0,\n",
       " 'temp4': 10.555555555555555}"
      ]
     },
     "execution_count": 10,
     "metadata": {},
     "output_type": "execute_result"
    }
   ],
   "source": [
    "cel_dict2={k:float(5)/9*(v-21) for k,v in feh.items()}\n",
    "\n",
    "cel_dict2"
   ]
  },
  {
   "cell_type": "code",
   "execution_count": 12,
   "id": "3fa5f9d2",
   "metadata": {},
   "outputs": [
    {
     "data": {
      "text/plain": [
       "{'temp2': -0.5555555555555556, 'temp3': 5.0, 'temp4': 10.555555555555555}"
      ]
     },
     "execution_count": 12,
     "metadata": {},
     "output_type": "execute_result"
    }
   ],
   "source": [
    "cel_dict3={k:float(5)/9*(v-21) for k,v in feh.items() if v>15}\n",
    "\n",
    "cel_dict3"
   ]
  },
  {
   "cell_type": "code",
   "execution_count": null,
   "id": "fd4be938",
   "metadata": {},
   "outputs": [],
   "source": []
  }
 ],
 "metadata": {
  "kernelspec": {
   "display_name": "Python 3 (ipykernel)",
   "language": "python",
   "name": "python3"
  },
  "language_info": {
   "codemirror_mode": {
    "name": "ipython",
    "version": 3
   },
   "file_extension": ".py",
   "mimetype": "text/x-python",
   "name": "python",
   "nbconvert_exporter": "python",
   "pygments_lexer": "ipython3",
   "version": "3.9.12"
  }
 },
 "nbformat": 4,
 "nbformat_minor": 5
}
