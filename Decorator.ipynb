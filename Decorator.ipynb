{
 "cells": [
  {
   "cell_type": "markdown",
   "id": "3b4edc14",
   "metadata": {},
   "source": [
    "Function Decorators"
   ]
  },
  {
   "cell_type": "code",
   "execution_count": 3,
   "id": "2b347ec1",
   "metadata": {},
   "outputs": [
    {
     "name": "stdout",
     "output_type": "stream",
     "text": [
      "Hey I am outside\n",
      "Above we are the statements the are exceuted before insdie Function\n",
      "Hey I am inside\n"
     ]
    }
   ],
   "source": [
    "def Outside_Function():\n",
    "    def Inside_Function():\n",
    "        print('Hey I am inside')\n",
    "        \n",
    "        \n",
    "    print('Hey I am outside')\n",
    "    print(\"Above we are the statements the are exceuted before insdie Function\")\n",
    "    Inside_Function()\n",
    "    print(\"Below we are the statements the are exceuted after insdie Function\")\n",
    "    \n",
    "Outside_Function()"
   ]
  },
  {
   "cell_type": "code",
   "execution_count": 4,
   "id": "5b362e44",
   "metadata": {},
   "outputs": [
    {
     "name": "stdout",
     "output_type": "stream",
     "text": [
      "The sum is 5\n"
     ]
    }
   ],
   "source": [
    "def addition(a,b):\n",
    "    def add(x,y):\n",
    "        return x+y\n",
    "    sum='The sum is '+str(add(a,b))\n",
    "    return sum\n",
    "ans=addition(2,3)\n",
    "print(ans)"
   ]
  },
  {
   "cell_type": "code",
   "execution_count": 5,
   "id": "837a66a0",
   "metadata": {},
   "outputs": [
    {
     "name": "stdout",
     "output_type": "stream",
     "text": [
      "I am Y\n",
      "I am x\n"
     ]
    }
   ],
   "source": [
    "def x (funt):\n",
    "    print('I am x')\n",
    "def y():\n",
    "    print('I am Y')\n",
    "    \n",
    "x(y())"
   ]
  },
  {
   "cell_type": "code",
   "execution_count": 9,
   "id": "55867231",
   "metadata": {},
   "outputs": [
    {
     "data": {
      "text/plain": [
       "6"
      ]
     },
     "execution_count": 9,
     "metadata": {},
     "output_type": "execute_result"
    }
   ],
   "source": [
    "def Outer_Function(a):\n",
    "    def Inter_Function(b):\n",
    "        return a+b\n",
    "    return Inter_Function\n",
    "    \n",
    "z=Outer_Function(2)(4)\n",
    "z(4)"
   ]
  },
  {
   "cell_type": "code",
   "execution_count": 11,
   "id": "adb46fe6",
   "metadata": {},
   "outputs": [
    {
     "name": "stdout",
     "output_type": "stream",
     "text": [
      "Hello henry\n"
     ]
    }
   ],
   "source": [
    "def repeatable(b):\n",
    "    x=Outer_Function('Hello ')\n",
    "    d=x(b)\n",
    "    print(d)\n",
    "repeatable('henry')"
   ]
  },
  {
   "cell_type": "code",
   "execution_count": 17,
   "id": "638cef04",
   "metadata": {},
   "outputs": [
    {
     "name": "stdout",
     "output_type": "stream",
     "text": [
      "11\n"
     ]
    }
   ],
   "source": [
    "def join(funtion):\n",
    "    funtion.data=2\n",
    "    return funtion\n",
    "def add (x,y):\n",
    "    return x+y+add.data\n",
    "join(add)\n",
    "c=add(5,4)\n",
    "print(c)"
   ]
  },
  {
   "cell_type": "code",
   "execution_count": 21,
   "id": "9b23ceff",
   "metadata": {},
   "outputs": [
    {
     "name": "stdout",
     "output_type": "stream",
     "text": [
      "hello henry\n"
     ]
    }
   ],
   "source": [
    "def x (a):\n",
    "    validate_a='hello'\n",
    "    if not a == validate_a:\n",
    "        print('not valid input')\n",
    "    def y(b):\n",
    "        validate_b=' henry'\n",
    "        if not b == validate_b:\n",
    "            print('not valid name')\n",
    "        return a+b\n",
    "    return y\n",
    "    \n",
    "def repeatable(a,b):\n",
    "    c=x(a)\n",
    "    d=c(b)\n",
    "    print(d)\n",
    "repeatable('heldlo','henry')"
   ]
  },
  {
   "cell_type": "code",
   "execution_count": 37,
   "id": "1b5bde99",
   "metadata": {},
   "outputs": [
    {
     "data": {
      "text/plain": [
       "2"
      ]
     },
     "execution_count": 37,
     "metadata": {},
     "output_type": "execute_result"
    }
   ],
   "source": [
    "def argument(f):\n",
    "    def helper(x):\n",
    "        if type(x)==int and x >0:\n",
    "            return f(x)\n",
    "        else:\n",
    "            raise Exception('argy=u is not pos int')\n",
    "    return helper\n",
    "def factorial(n):\n",
    "    if n==1:\n",
    "        return 1\n",
    "    else:\n",
    "        return n*factorial(n-1)\n",
    "z=argument(factorial)    \n",
    "z(2)"
   ]
  },
  {
   "cell_type": "code",
   "execution_count": 38,
   "id": "18a720f5",
   "metadata": {},
   "outputs": [
    {
     "ename": "Exception",
     "evalue": "argy=u is not pos int",
     "output_type": "error",
     "traceback": [
      "\u001b[1;31m---------------------------------------------------------------------------\u001b[0m",
      "\u001b[1;31mException\u001b[0m                                 Traceback (most recent call last)",
      "Input \u001b[1;32mIn [38]\u001b[0m, in \u001b[0;36m<cell line: 1>\u001b[1;34m()\u001b[0m\n\u001b[1;32m----> 1\u001b[0m \u001b[43mz\u001b[49m\u001b[43m(\u001b[49m\u001b[38;5;241;43m1.4\u001b[39;49m\u001b[43m)\u001b[49m\n",
      "Input \u001b[1;32mIn [37]\u001b[0m, in \u001b[0;36margument.<locals>.helper\u001b[1;34m(x)\u001b[0m\n\u001b[0;32m      4\u001b[0m     \u001b[38;5;28;01mreturn\u001b[39;00m f(x)\n\u001b[0;32m      5\u001b[0m \u001b[38;5;28;01melse\u001b[39;00m:\n\u001b[1;32m----> 6\u001b[0m     \u001b[38;5;28;01mraise\u001b[39;00m \u001b[38;5;167;01mException\u001b[39;00m(\u001b[38;5;124m'\u001b[39m\u001b[38;5;124margy=u is not pos int\u001b[39m\u001b[38;5;124m'\u001b[39m)\n",
      "\u001b[1;31mException\u001b[0m: argy=u is not pos int"
     ]
    }
   ],
   "source": [
    "z(1.4)"
   ]
  },
  {
   "cell_type": "markdown",
   "id": "b7bf2ee4",
   "metadata": {},
   "source": [
    "Class decorator"
   ]
  },
  {
   "cell_type": "code",
   "execution_count": 22,
   "id": "dc93153f",
   "metadata": {},
   "outputs": [],
   "source": [
    "class x:\n",
    "    def __inti__(self):\n",
    "        print(\"an instance or object was intialised\")\n",
    "    def __call__(self,*args,**kwargs):\n",
    "        print('argu',args,kwargs)"
   ]
  },
  {
   "cell_type": "code",
   "execution_count": 27,
   "id": "5ec0761c",
   "metadata": {},
   "outputs": [
    {
     "name": "stdout",
     "output_type": "stream",
     "text": [
      "call\n",
      "argu (4, 5) {'z': 12, 'v': 20.5}\n"
     ]
    }
   ],
   "source": [
    "a=x()\n",
    "print('call')\n",
    "a(4,5,z=12,v=20.5)"
   ]
  },
  {
   "cell_type": "code",
   "execution_count": 28,
   "id": "626e9eb6",
   "metadata": {},
   "outputs": [
    {
     "name": "stdout",
     "output_type": "stream",
     "text": [
      "do somethin using F decorator\n",
      "name:x\n"
     ]
    }
   ],
   "source": [
    "def x():\n",
    "    print('do somethin using F decorator')\n",
    "    def y():\n",
    "        print('name:'+x.__name__)\n",
    "    return y\n",
    "def repeatable():\n",
    "    c=x()\n",
    "    d=c()\n",
    "repeatable()    "
   ]
  },
  {
   "cell_type": "code",
   "execution_count": 30,
   "id": "7cfba5b6",
   "metadata": {},
   "outputs": [
    {
     "name": "stdout",
     "output_type": "stream",
     "text": [
      "do somethin using F decorator\n",
      "name:x\n"
     ]
    }
   ],
   "source": [
    "class x:\n",
    "    def __init__(self):\n",
    "        print(\"do somethin using F decorator\")\n",
    "    def __call__(self,*args,**kwargs):\n",
    "        print('name:'+x.__name__)\n",
    "\n",
    "def repeatable():\n",
    "    c=x()\n",
    "    d=c()\n",
    "repeatable()    \n",
    "        \n",
    "              "
   ]
  },
  {
   "cell_type": "markdown",
   "id": "6e44a185",
   "metadata": {},
   "source": [
    "Meta Classes"
   ]
  },
  {
   "cell_type": "code",
   "execution_count": 39,
   "id": "ef85b5fd",
   "metadata": {},
   "outputs": [
    {
     "name": "stdout",
     "output_type": "stream",
     "text": [
      "10\n"
     ]
    }
   ],
   "source": [
    "class x:\n",
    "    pass\n",
    "x.variable=10\n",
    "c=x()\n",
    "print(c.variable)"
   ]
  },
  {
   "cell_type": "code",
   "execution_count": 93,
   "id": "a38590fd",
   "metadata": {},
   "outputs": [
    {
     "name": "stdout",
     "output_type": "stream",
     "text": [
      "<class 'type'>\n"
     ]
    }
   ],
   "source": [
    "def metafunc(self):\n",
    "    print('meta function')\n",
    "    return 1\n",
    "class inherit:\n",
    "    def func(self):\n",
    "        print('inherited')\n",
    "        return 2\n",
    "metaobj=type('meta',(inherit,),dict(name='henry'))\n",
    "\n",
    "print(type(metaobj))"
   ]
  },
  {
   "cell_type": "code",
   "execution_count": 95,
   "id": "9b5af555",
   "metadata": {},
   "outputs": [
    {
     "name": "stdout",
     "output_type": "stream",
     "text": [
      "<class '__main__.meta'>\n",
      "inherited\n"
     ]
    },
    {
     "data": {
      "text/plain": [
       "2"
      ]
     },
     "execution_count": 95,
     "metadata": {},
     "output_type": "execute_result"
    }
   ],
   "source": [
    "a=metaobj()\n",
    "print(type(a))\n",
    "a.func()"
   ]
  },
  {
   "cell_type": "code",
   "execution_count": 96,
   "id": "35aeb2ff",
   "metadata": {},
   "outputs": [],
   "source": [
    "\n",
    "metaobj=type('meta',(inherit,),dict(name='henry',func=metafunc))\n",
    "b=metaobj()"
   ]
  },
  {
   "cell_type": "code",
   "execution_count": 97,
   "id": "388fd7d1",
   "metadata": {},
   "outputs": [
    {
     "name": "stdout",
     "output_type": "stream",
     "text": [
      "<class '__main__.meta'>\n",
      "meta function\n"
     ]
    },
    {
     "data": {
      "text/plain": [
       "1"
      ]
     },
     "execution_count": 97,
     "metadata": {},
     "output_type": "execute_result"
    }
   ],
   "source": [
    "print(type(b))\n",
    "b.func()"
   ]
  },
  {
   "cell_type": "code",
   "execution_count": 71,
   "id": "ca1250b7",
   "metadata": {},
   "outputs": [
    {
     "data": {
      "text/plain": [
       "1"
      ]
     },
     "execution_count": 71,
     "metadata": {},
     "output_type": "execute_result"
    }
   ],
   "source": []
  },
  {
   "cell_type": "code",
   "execution_count": null,
   "id": "9a17025e",
   "metadata": {},
   "outputs": [],
   "source": []
  },
  {
   "cell_type": "code",
   "execution_count": null,
   "id": "d50fb4b5",
   "metadata": {},
   "outputs": [],
   "source": []
  }
 ],
 "metadata": {
  "kernelspec": {
   "display_name": "Python 3 (ipykernel)",
   "language": "python",
   "name": "python3"
  },
  "language_info": {
   "codemirror_mode": {
    "name": "ipython",
    "version": 3
   },
   "file_extension": ".py",
   "mimetype": "text/x-python",
   "name": "python",
   "nbconvert_exporter": "python",
   "pygments_lexer": "ipython3",
   "version": "3.9.12"
  }
 },
 "nbformat": 4,
 "nbformat_minor": 5
}
