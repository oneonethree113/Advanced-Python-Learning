{
 "cells": [
  {
   "cell_type": "code",
   "execution_count": 2,
   "id": "243b537f",
   "metadata": {},
   "outputs": [
    {
     "name": "stdout",
     "output_type": "stream",
     "text": [
      "Message: b'Hello!!!'\n"
     ]
    }
   ],
   "source": [
    "import socket\n",
    "host='localhost'\n",
    "port=8080\n",
    "\n",
    "\n",
    "s=socket.socket(socket.AF_INET,socket.SOCK_STREAM)\n",
    "s.connect((host,port))\n",
    "message=s.recv(1024)\n",
    "\n",
    "while message:\n",
    "    print('Message:',message)\n",
    "    message=s.recv(1024)\n",
    "s.close()"
   ]
  },
  {
   "cell_type": "code",
   "execution_count": null,
   "id": "32e74d77",
   "metadata": {},
   "outputs": [],
   "source": []
  }
 ],
 "metadata": {
  "kernelspec": {
   "display_name": "Python 3 (ipykernel)",
   "language": "python",
   "name": "python3"
  },
  "language_info": {
   "codemirror_mode": {
    "name": "ipython",
    "version": 3
   },
   "file_extension": ".py",
   "mimetype": "text/x-python",
   "name": "python",
   "nbconvert_exporter": "python",
   "pygments_lexer": "ipython3",
   "version": "3.9.12"
  }
 },
 "nbformat": 4,
 "nbformat_minor": 5
}
