{
  "nbformat": 4,
  "nbformat_minor": 0,
  "metadata": {
    "colab": {
      "provenance": [],
      "private_outputs": true,
      "mount_file_id": "1VqBLRRWHNBiSsdvPKHtxlLIoMVmwIEKq",
      "authorship_tag": "ABX9TyP7rTc0dX7U8dMMWnoIKzzM",
      "include_colab_link": true
    },
    "kernelspec": {
      "name": "python3",
      "display_name": "Python 3"
    },
    "language_info": {
      "name": "python"
    },
    "gpuClass": "standard"
  },
  "cells": [
    {
      "cell_type": "markdown",
      "metadata": {
        "id": "view-in-github",
        "colab_type": "text"
      },
      "source": [
        "<a href=\"https://colab.research.google.com/github/oneonethree113/Advanced-Python-Learning/blob/main/Attention_Model_Predict_Price.ipynb\" target=\"_parent\"><img src=\"https://colab.research.google.com/assets/colab-badge.svg\" alt=\"Open In Colab\"/></a>"
      ]
    },
    {
      "cell_type": "code",
      "source": [
        "import pandas as pd\n",
        "import numpy as np\n",
        "# Replace 'filename.csv' with the path of your CSV file\n",
        "csv_file = '/content/drive/MyDrive/Colab Notebooks/Experiment/data.csv'\n",
        "\n",
        "# Read the CSV file using pandas\n",
        "data = pd.read_csv(csv_file)\n",
        "data = data.drop('Date', axis=1)\n",
        "shiftDay=-60\n",
        "sequence_length = 200\n",
        "\n",
        "# Display the first 5 rows of the data\n",
        "print(data.head())"
      ],
      "metadata": {
        "id": "6ySZYbrmVRNs"
      },
      "execution_count": null,
      "outputs": []
    },
    {
      "cell_type": "code",
      "source": [
        "# Assuming your columns are named 'column1' and 'column2'\n",
        "# Replace these names with the actual column names in your CSV file\n",
        "column1 = data['Asset']\n",
        "shifted_column1 = column1.shift(shiftDay)\n",
        "\n",
        "# Calculate the new column values\n",
        "new_column_values = shifted_column1/ column1 \n",
        "\n",
        "# Add the new column to the DataFrame\n",
        "data['5daysChange'] = new_column_values\n",
        "data['C103'] = (data['5daysChange'] > 1.03).astype(int)\n",
        "data['C106'] = (data['5daysChange'] > 1.06).astype(int)\n",
        "# Display the first 10 rows of the updated DataFrame\n",
        "data"
      ],
      "metadata": {
        "id": "y3zy8yttVZ68"
      },
      "execution_count": null,
      "outputs": []
    },
    {
      "cell_type": "code",
      "source": [
        "from google.colab import drive\n",
        "drive.mount('/content/drive')"
      ],
      "metadata": {
        "id": "z-6fP80Hlvv3"
      },
      "execution_count": null,
      "outputs": []
    },
    {
      "cell_type": "markdown",
      "source": [
        "2. Preprocess the data: Prepare the input and output sequences for your model using a sliding window approach. You'll create sequences of 10 rows as input, and the corresponding new column value as output.\n"
      ],
      "metadata": {
        "id": "EU4ANSK0ZyG1"
      }
    },
    {
      "cell_type": "code",
      "execution_count": null,
      "metadata": {
        "id": "6_y5rFfWTKMM"
      },
      "outputs": [],
      "source": [
        "def create_sequences(input_data, target_data, seq_length):\n",
        "    inputs = []\n",
        "    targets = []\n",
        "    for i in range(len(input_data) - seq_length):\n",
        "        inputs.append(input_data[i:i+seq_length])\n",
        "        targets.append(target_data[i+seq_length])\n",
        "    return np.array(inputs), np.array(targets)\n",
        "\n",
        "# Assuming your DataFrame is named `data`\n",
        "# Separate the input features and target values\n",
        "input_features = data.drop(columns=['5daysChange', 'C103', 'C106']).to_numpy()\n",
        "input_features =  data[['Asset']].to_numpy()\n",
        "target_values = data[['C103', 'C106']].to_numpy()\n",
        "\n",
        "# Discard the last 5 elements in both input_features and target_values\n",
        "input_features = input_features[:shiftDay]\n",
        "target_values = target_values[:shiftDay]\n",
        "\n",
        "sequence_length = 10\n",
        "inputs, targets = create_sequences(input_features, target_values, sequence_length)"
      ]
    },
    {
      "cell_type": "code",
      "source": [
        "data.head(10)"
      ],
      "metadata": {
        "id": "xUp6fJ_uaP23"
      },
      "execution_count": null,
      "outputs": []
    },
    {
      "cell_type": "code",
      "source": [
        "inputs.shape"
      ],
      "metadata": {
        "id": "0_L9sigCU4Lj"
      },
      "execution_count": null,
      "outputs": []
    },
    {
      "cell_type": "markdown",
      "source": [
        "\n",
        "3. Split the data into training and testing sets."
      ],
      "metadata": {
        "id": "7LUjEQWNcJ0T"
      }
    },
    {
      "cell_type": "code",
      "source": [
        "split_index = int(0.75 * len(inputs))\n",
        "\n",
        "# Split the data into training and testing sets\n",
        "X_train, X_test = inputs[:split_index], inputs[split_index:]\n",
        "y_train, y_test = targets[:split_index], targets[split_index:]\n",
        "\n",
        "\n",
        "X_train.shape, X_test.shape\n",
        "y_train.shape, y_test.shape"
      ],
      "metadata": {
        "id": "mmIDSvQ0b0ko"
      },
      "execution_count": null,
      "outputs": []
    },
    {
      "cell_type": "markdown",
      "source": [
        "\n",
        "4. Implement the attention model using PyTorch.\n",
        "\n",
        "\n"
      ],
      "metadata": {
        "id": "xcDUft3Zc1h3"
      }
    },
    {
      "cell_type": "code",
      "source": [
        "\n",
        "import torch\n",
        "import torch.nn as nn\n",
        "\n",
        "class AttentionModel(nn.Module):\n",
        "    def __init__(self, input_size, hidden_size, num_heads, num_layers, output_size):\n",
        "        super(AttentionModel, self).__init__()\n",
        "        self.lstm = nn.LSTM(input_size, hidden_size, num_layers, batch_first=True)\n",
        "        \n",
        "        # Three Multi-Head Attention layers\n",
        "        self.multi_head_attention1 = nn.MultiheadAttention(embed_dim=hidden_size, num_heads=num_heads)\n",
        "        self.multi_head_attention2 = nn.MultiheadAttention(embed_dim=hidden_size, num_heads=num_heads)\n",
        "        self.multi_head_attention3 = nn.MultiheadAttention(embed_dim=hidden_size, num_heads=num_heads)\n",
        "        \n",
        "        fc_hidden_size = int(2/3 * hidden_size)\n",
        "        self.fc1 = nn.Linear(hidden_size, fc_hidden_size)\n",
        "        self.fc2 = nn.Linear(fc_hidden_size, int(2/3 *fc_hidden_size))\n",
        "        self.fc3 = nn.Linear(int(2/3 *fc_hidden_size), output_size)\n",
        "    def forward(self, x):\n",
        "        x = x[:, ::5, :]\n",
        "        # LSTM\n",
        "        lstm_out, _ = self.lstm(x)\n",
        "        \n",
        "        # Multi-Head Attention layers\n",
        "        attention_out1, _ = self.multi_head_attention1(lstm_out, lstm_out, lstm_out)\n",
        "        attention_out2, _ = self.multi_head_attention2(attention_out1, attention_out1, attention_out1)\n",
        "        attention_out3, _ = self.multi_head_attention3(attention_out2, attention_out2, attention_out2)\n",
        "        \n",
        "        # Fully connected layer        # Fully connected layers\n",
        "        fc_out = nn.ReLU()(self.fc1(attention_out3[:, -1, :]))\n",
        "        fc_out = nn.ReLU()(self.fc2(fc_out))\n",
        "        out = self.fc3(fc_out)\n",
        "        return out\n",
        "class ConvLSTMModel(nn.Module):\n",
        "    def __init__(self, input_size, hidden_size, num_layers, output_size):\n",
        "        super(ConvLSTMModel, self).__init__()\n",
        "        \n",
        "        # Convolutional layers and max-pooling\n",
        "        self.conv1 = nn.Conv1d(input_size, hidden_size, kernel_size=10,  padding=3,stride=3)\n",
        "        self.pool1 = nn.MaxPool1d(3)\n",
        "        self.conv2 = nn.Conv1d(hidden_size, hidden_size, kernel_size=10, padding=9,stride=3)\n",
        "        self.pool2 = nn.MaxPool1d(3)\n",
        "        self.conv3 = nn.Conv1d(hidden_size, hidden_size, kernel_size=10, padding=9,stride=3)\n",
        "        self.pool3 = nn.MaxPool1d(3)\n",
        "        \n",
        "        # LSTM layers\n",
        "        self.lstm = nn.LSTM(hidden_size, hidden_size, num_layers=2, batch_first=True)\n",
        "        \n",
        "        # Fully connected layers\n",
        "        fc_hidden_size = int(2/3 * hidden_size)\n",
        "        self.fc1 = nn.Linear(hidden_size, fc_hidden_size)\n",
        "        self.fc2 = nn.Linear(fc_hidden_size, fc_hidden_size)\n",
        "        self.fc3 = nn.Linear(fc_hidden_size, output_size)\n",
        "\n",
        "    def forward(self, x):\n",
        "        # Convolutional and max-pooling layers\n",
        "        x = x.permute(0, 2, 1)  # Swap time and feature dimensions\n",
        "        x = nn.ReLU()(self.conv1(x))\n",
        "        x = self.pool1(x)\n",
        "        x = nn.ReLU()(self.conv2(x))\n",
        "        x = self.pool2(x)\n",
        "        x = nn.ReLU()(self.conv3(x))\n",
        "        x = self.pool3(x)\n",
        "        \n",
        "        x = x.permute(0, 2, 1)  # Swap time and feature dimensions back\n",
        "        \n",
        "        # LSTM layers\n",
        "        lstm_out, _ = self.lstm(x)\n",
        "        \n",
        "        # Fully connected layers\n",
        "        fc_out = nn.ReLU()(self.fc1(lstm_out[:, -1, :]))\n",
        "        fc_out = nn.ReLU()(self.fc2(fc_out))\n",
        "        out = torch.sigmoid(self.fc3(fc_out))  # Use sigmoid activation for multi-label classification\n",
        "        \n",
        "        return out\n",
        "\n",
        "\n",
        "\n",
        "# Set the input size, hidden size, number of layers, and output size\n",
        "input_size = inputs.shape[2]  # Number of features in your data\n",
        "hidden_size = 64\n",
        "num_layers = 2\n",
        "output_size = 2  # There are two output classes (C103 and C106)\n",
        "\n",
        "# Create the model\n",
        "model = ConvLSTMModel(input_size, hidden_size, num_layers, output_size)\n"
      ],
      "metadata": {
        "id": "2JkTiYjVc1J5"
      },
      "execution_count": null,
      "outputs": []
    },
    {
      "cell_type": "markdown",
      "source": [
        "\n",
        "5. Train the model using the training data.\n",
        "\n"
      ],
      "metadata": {
        "id": "3zolBT7SdMls"
      }
    },
    {
      "cell_type": "code",
      "source": [
        "\n",
        "# Set hyperparameters\n",
        "learning_rate = 0.001\n",
        "num_epochs = 1000\n",
        "batch_size = 32\n",
        "\n",
        "# Create data loaders\n",
        "train_data = torch.utils.data.TensorDataset(torch.tensor(X_train).float(), torch.tensor(y_train).float())\n",
        "train_loader = torch.utils.data.DataLoader(train_data, batch_size=batch_size, shuffle=True)\n",
        "\n",
        "test_data = torch.utils.data.TensorDataset(torch.tensor(X_test).float(), torch.tensor(y_test).float())\n",
        "test_loader = torch.utils.data.DataLoader(test_data, batch_size=1, shuffle=False)\n",
        "\n",
        "# Set the loss function and optimizer\n",
        "criterion = nn.BCELoss()  # Use Binary Cross-Entropy Loss for multi-label classification\n",
        "optimizer = torch.optim.Adam(model.parameters(), lr=learning_rate)\n",
        "\n",
        "\n",
        "from torch.optim.lr_scheduler import StepLR\n",
        "step_size = 10  # Decrease learning rate every 10 epochs\n",
        "gamma = 0.3     # Multiply the learning rate by 0.1 (reduce it to 10%)\n",
        "\n",
        "# Create the scheduler\n",
        "scheduler = StepLR(optimizer, step_size=step_size, gamma=gamma)\n",
        "\n",
        "\n",
        "\n",
        "def test_loss(model, criterion, test_loader):\n",
        "    model.eval()\n",
        "    running_loss = 0.0\n",
        "    with torch.no_grad():\n",
        "        for batch_X, batch_y in test_loader:\n",
        "            outputs = model(batch_X)\n",
        "            loss = criterion(outputs, batch_y)\n",
        "            running_loss += loss.item()\n",
        "    return running_loss / len(test_loader)\n",
        "\n",
        "# Train the model and record losses\n",
        "training_losses = []\n",
        "testing_losses = []\n",
        "\n",
        "model.train()\n",
        "for epoch in range(num_epochs):\n",
        "    running_loss = 0.0\n",
        "    for batch_X, batch_y in train_loader:\n",
        "        optimizer.zero_grad()\n",
        "        outputs = model(batch_X)\n",
        "        loss = criterion(outputs.squeeze(), batch_y)\n",
        "        loss.backward()\n",
        "        optimizer.step()\n",
        "        running_loss += loss.item()\n",
        "\n",
        "    train_loss = running_loss / len(train_loader)\n",
        "    training_losses.append(train_loss)\n",
        "    \n",
        "    test_loss_value = test_loss(model, criterion, test_loader)\n",
        "    testing_losses.append(test_loss_value)\n",
        "    scheduler.step()\n",
        "\n",
        "    print(f'Epoch [{epoch+1}/{num_epochs}], Train Loss: {train_loss:.4f}, Test Loss: {test_loss_value:.4f}, learning rate: {optimizer.param_groups[0][\"lr\"]:.8f}')"
      ],
      "metadata": {
        "id": "5sCMllUkerH4"
      },
      "execution_count": null,
      "outputs": []
    },
    {
      "cell_type": "code",
      "source": [
        "import matplotlib.pyplot as plt\n",
        "\n",
        "\n",
        "def plot_losses(training_losses, testing_losses):\n",
        "    plt.figure()\n",
        "    plt.plot(training_losses[1:], label='Training Loss')\n",
        "    plt.plot(testing_losses[1:], label='Testing Loss')\n",
        "    plt.xlabel('Epochs')\n",
        "    plt.ylabel('Loss')\n",
        "    plt.title('Training and Testing Losses')\n",
        "    plt.legend()\n",
        "    plt.show()\n",
        "\n",
        "# Plot the training and testing losses\n",
        "plot_losses(training_losses, testing_losses)"
      ],
      "metadata": {
        "id": "hEbP11f3nO9o"
      },
      "execution_count": null,
      "outputs": []
    },
    {
      "cell_type": "markdown",
      "source": [
        "\n",
        "6. Evaluate the model using the testing data."
      ],
      "metadata": {
        "id": "6fy3ABlTfkFY"
      }
    },
    {
      "cell_type": "code",
      "source": [
        "import matplotlib.pyplot as plt\n",
        "def plot_predictions(actuals, predictions, class_labels, title):\n",
        "    num_classes = len(class_labels)\n",
        "    fig, axes = plt.subplots(num_classes, figsize=(10, 4 * num_classes))\n",
        "    \n",
        "    for i in range(num_classes):\n",
        "        actuals_i = [x[0][i] for x in actuals]  # Adjust indexing for actuals\n",
        "        predictions_i = [x[0][i] for x in predictions]  # Adjust indexing for predictions\n",
        "        axes[i].plot(actuals_i, label='Actual')\n",
        "        axes[i].plot(predictions_i, label='Predicted')\n",
        "        axes[i].set_xlabel('Time steps')\n",
        "        axes[i].set_ylabel(f'Class: {class_labels[i]}')\n",
        "        axes[i].set_title(f'{title} - Class: {class_labels[i]}')\n",
        "        axes[i].legend()\n",
        "    \n",
        "    plt.tight_layout()\n",
        "    plt.show()\n",
        "# Evaluate the model and create graphs for the training set\n",
        "train_predictions = []\n",
        "train_actuals = []\n",
        "with torch.no_grad():\n",
        "    for batch_X, batch_y in torch.utils.data.DataLoader(train_data, batch_size=1, shuffle=False):\n",
        "        output = model(batch_X)\n",
        "        train_predictions.append(output.numpy())\n",
        "        train_actuals.append(batch_y.numpy())\n",
        "plot_predictions(train_actuals, train_predictions, ['C103', 'C106'], 'Training set: Actual vs. Predicted')"
      ],
      "metadata": {
        "id": "mY-QM9xagZkU"
      },
      "execution_count": null,
      "outputs": []
    },
    {
      "cell_type": "code",
      "source": [
        "\n",
        "# Evaluate the model and create graphs for the testing set\n",
        "test_predictions = []\n",
        "test_actuals = []\n",
        "with torch.no_grad():\n",
        "    for batch_X, batch_y in test_loader:\n",
        "        output = model(batch_X)\n",
        "        test_predictions.append(output.numpy())\n",
        "        test_actuals.append(batch_y.numpy())\n",
        "plot_predictions(test_actuals, test_predictions, ['C103', 'C106'], 'Testing set: Actual vs. Predicted')"
      ],
      "metadata": {
        "id": "ugPNtTODzBY0"
      },
      "execution_count": null,
      "outputs": []
    }
  ]
}