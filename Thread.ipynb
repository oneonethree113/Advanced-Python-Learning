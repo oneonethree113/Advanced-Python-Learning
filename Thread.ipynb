{
  "nbformat": 4,
  "nbformat_minor": 0,
  "metadata": {
    "colab": {
      "provenance": [],
      "authorship_tag": "ABX9TyNXAb0N7eiBg8gzKhnLg0en",
      "include_colab_link": true
    },
    "kernelspec": {
      "name": "python3",
      "display_name": "Python 3"
    },
    "language_info": {
      "name": "python"
    }
  },
  "cells": [
    {
      "cell_type": "markdown",
      "metadata": {
        "id": "view-in-github",
        "colab_type": "text"
      },
      "source": [
        "<a href=\"https://colab.research.google.com/github/oneonethree113/Advanced-Python-Learning/blob/main/Thread.ipynb\" target=\"_parent\"><img src=\"https://colab.research.google.com/assets/colab-badge.svg\" alt=\"Open In Colab\"/></a>"
      ]
    },
    {
      "cell_type": "code",
      "execution_count": 3,
      "metadata": {
        "colab": {
          "base_uri": "https://localhost:8080/"
        },
        "id": "Z67PQoJD4CFa",
        "outputId": "df9c1564-85a2-4490-edd3-41b344ceb492"
      },
      "outputs": [
        {
          "output_type": "stream",
          "name": "stdout",
          "text": [
            "0\n",
            "2\n",
            "4\n",
            "6\n",
            "8\n",
            "MainThread\n"
          ]
        }
      ],
      "source": [
        "import threading\n",
        "t=threading.current_thread().getName()\n",
        "if threading.current_thread()==threading.main_thread():\n",
        "  for x in range(10):\n",
        "    if x%2==0:\n",
        "      print(x)\n",
        "else:\n",
        "  print(\"the running thread is not a Main Thread\")\n",
        "print(t)"
      ]
    },
    {
      "cell_type": "code",
      "source": [
        "import threading\n",
        "threading.current_thread().name='Bila1'\n",
        "print(threading.current_thread().getName())"
      ],
      "metadata": {
        "colab": {
          "base_uri": "https://localhost:8080/"
        },
        "id": "oqEMOFCT4O9x",
        "outputId": "43b4f73e-ecdb-4f3a-acd0-34e5035225df"
      },
      "execution_count": 4,
      "outputs": [
        {
          "output_type": "stream",
          "name": "stdout",
          "text": [
            "Bila1\n"
          ]
        }
      ]
    },
    {
      "cell_type": "code",
      "source": [
        "from threading import Thread\n",
        "\n",
        "def evenNumber():\n",
        "  for x in range(20):\n",
        "    if x%2==0:\n",
        "      print(x)\n",
        "  a=threading.current_thread().getName()\n",
        "  print(a)\n",
        "\n",
        "\n",
        "\n",
        "a=threading.current_thread().getName()\n",
        "print(a)\n",
        "t=Thread(target=evenNumber)\n",
        "t.start()\n"
      ],
      "metadata": {
        "colab": {
          "base_uri": "https://localhost:8080/"
        },
        "id": "aN8CyJqr5XWC",
        "outputId": "b8e0a7d2-e8e4-468f-b5ae-5c213689737e"
      },
      "execution_count": 30,
      "outputs": [
        {
          "output_type": "stream",
          "name": "stdout",
          "text": [
            "Bila1\n",
            "0\n",
            "2\n",
            "4\n",
            "6\n",
            "8\n",
            "10\n",
            "12\n",
            "14\n",
            "16\n",
            "18\n",
            "Thread-36\n"
          ]
        }
      ]
    },
    {
      "cell_type": "code",
      "source": [
        "from threading import Thread\n",
        "import threading\n",
        "def even_odd():\n",
        "  evenNo()\n",
        "  oddNo()\n",
        "  print(threading.current_thread().getName())\n",
        "\n",
        "def evenNo():\n",
        "  print('Even no are')\n",
        "  for x in range(20):\n",
        "    if x%2==0:\n",
        "      print(x)\n",
        "  print(threading.current_thread().getName())\n",
        "\n",
        "def oddNo():\n",
        "  print('Odd no are')\n",
        "  for x in range(20):\n",
        "    if x%2==0:\n",
        "      print(x)\n",
        "  print(threading.current_thread().getName())\n",
        "t =Thread(target=even_odd,name='even_odd_thread')\n",
        "t.start()"
      ],
      "metadata": {
        "colab": {
          "base_uri": "https://localhost:8080/"
        },
        "id": "67PNGB2yC9eD",
        "outputId": "93e7945a-1193-46d7-bcc5-5fd174b7562a"
      },
      "execution_count": 15,
      "outputs": [
        {
          "output_type": "stream",
          "name": "stdout",
          "text": [
            "Even no are\n",
            "0\n",
            "2\n",
            "4\n",
            "6\n",
            "8\n",
            "10\n",
            "12\n",
            "14\n",
            "16\n",
            "18\n",
            "even_odd_thread\n",
            "Odd no are\n",
            "0\n",
            "2\n",
            "4\n",
            "6\n",
            "8\n",
            "10\n",
            "12\n",
            "14\n",
            "16\n",
            "18\n",
            "even_odd_thread\n",
            "even_odd_thread\n"
          ]
        }
      ]
    },
    {
      "cell_type": "markdown",
      "source": [
        "# Create thread by extending class"
      ],
      "metadata": {
        "id": "cVu53MTlEB1R"
      }
    },
    {
      "cell_type": "code",
      "source": [
        "from threading import Thread\n",
        "class myThread(Thread):\n",
        "  def run(self):\n",
        "    print('Egythian Pyrmaid')\n",
        "    print(threading.current_thread().getName())\n",
        "    for x in range(5):\n",
        "      print('*'*x,end=' ')\n",
        "      print('\\r')\n",
        "\n",
        "obj=myThread()\n",
        "obj.start()"
      ],
      "metadata": {
        "colab": {
          "base_uri": "https://localhost:8080/"
        },
        "id": "_L5oFLzIEHI2",
        "outputId": "b960abd9-9314-44dd-e291-df2018b2de90"
      },
      "execution_count": 16,
      "outputs": [
        {
          "output_type": "stream",
          "name": "stdout",
          "text": [
            "Egythian Pyrmaid\n",
            " \n",
            "* \n",
            "** \n",
            "*** \n",
            "**** \n"
          ]
        }
      ]
    },
    {
      "cell_type": "markdown",
      "source": [
        "# multiThread"
      ],
      "metadata": {
        "id": "X1O4Yx0HE0GR"
      }
    },
    {
      "cell_type": "code",
      "source": [
        "from threading import Thread\n",
        "class myThread():\n",
        "  def neturalNo():\n",
        "    for x in range(5):\n",
        "      print(x)\n",
        "\n",
        "\n",
        "obj=Thread(myThread.neturalNo)\n",
        "obj.start()"
      ],
      "metadata": {
        "colab": {
          "base_uri": "https://localhost:8080/",
          "height": 352
        },
        "id": "prVKbZ7UEzcd",
        "outputId": "948a6ef3-3f90-4ea9-8b81-e57635e3ac9a"
      },
      "execution_count": 33,
      "outputs": [
        {
          "output_type": "error",
          "ename": "AssertionError",
          "evalue": "ignored",
          "traceback": [
            "\u001b[0;31m---------------------------------------------------------------------------\u001b[0m",
            "\u001b[0;31mAssertionError\u001b[0m                            Traceback (most recent call last)",
            "\u001b[0;32m<ipython-input-33-aa66b41d090c>\u001b[0m in \u001b[0;36m<module>\u001b[0;34m\u001b[0m\n\u001b[1;32m      6\u001b[0m \u001b[0;34m\u001b[0m\u001b[0m\n\u001b[1;32m      7\u001b[0m \u001b[0;34m\u001b[0m\u001b[0m\n\u001b[0;32m----> 8\u001b[0;31m \u001b[0mobj\u001b[0m\u001b[0;34m=\u001b[0m\u001b[0mThread\u001b[0m\u001b[0;34m(\u001b[0m\u001b[0mmyThread\u001b[0m\u001b[0;34m.\u001b[0m\u001b[0mneturalNo\u001b[0m\u001b[0;34m)\u001b[0m\u001b[0;34m\u001b[0m\u001b[0;34m\u001b[0m\u001b[0m\n\u001b[0m\u001b[1;32m      9\u001b[0m \u001b[0mobj\u001b[0m\u001b[0;34m.\u001b[0m\u001b[0mstart\u001b[0m\u001b[0;34m(\u001b[0m\u001b[0;34m)\u001b[0m\u001b[0;34m\u001b[0m\u001b[0;34m\u001b[0m\u001b[0m\n",
            "\u001b[0;32m/usr/lib/python3.8/threading.py\u001b[0m in \u001b[0;36m__init__\u001b[0;34m(self, group, target, name, args, kwargs, daemon)\u001b[0m\n\u001b[1;32m    782\u001b[0m \u001b[0;34m\u001b[0m\u001b[0m\n\u001b[1;32m    783\u001b[0m         \"\"\"\n\u001b[0;32m--> 784\u001b[0;31m         \u001b[0;32massert\u001b[0m \u001b[0mgroup\u001b[0m \u001b[0;32mis\u001b[0m \u001b[0;32mNone\u001b[0m\u001b[0;34m,\u001b[0m \u001b[0;34m\"group argument must be None for now\"\u001b[0m\u001b[0;34m\u001b[0m\u001b[0;34m\u001b[0m\u001b[0m\n\u001b[0m\u001b[1;32m    785\u001b[0m         \u001b[0;32mif\u001b[0m \u001b[0mkwargs\u001b[0m \u001b[0;32mis\u001b[0m \u001b[0;32mNone\u001b[0m\u001b[0;34m:\u001b[0m\u001b[0;34m\u001b[0m\u001b[0;34m\u001b[0m\u001b[0m\n\u001b[1;32m    786\u001b[0m             \u001b[0mkwargs\u001b[0m \u001b[0;34m=\u001b[0m \u001b[0;34m{\u001b[0m\u001b[0;34m}\u001b[0m\u001b[0;34m\u001b[0m\u001b[0;34m\u001b[0m\u001b[0m\n",
            "\u001b[0;31mAssertionError\u001b[0m: group argument must be None for now"
          ]
        }
      ]
    },
    {
      "cell_type": "code",
      "source": [
        "from threading import Thread\n",
        "import threading\n",
        "from time import sleep\n",
        "def neturalNo():\n",
        "  print(threading.current_thread().getName(),' has started')\n",
        "  sleep(3)\n",
        "  for x in range(100):\n",
        "    i=x\n",
        "  print(threading.current_thread().getName(),' has ended')\n",
        "\n",
        "t1=Thread(target=neturalNo)\n",
        "t2=Thread(target=neturalNo)\n",
        "t1.start()\n",
        "t2.start()\n"
      ],
      "metadata": {
        "colab": {
          "base_uri": "https://localhost:8080/"
        },
        "id": "YpkmgCS_GNCl",
        "outputId": "05f8ce25-0941-45a0-8fe5-75617af18f35"
      },
      "execution_count": 37,
      "outputs": [
        {
          "output_type": "stream",
          "name": "stdout",
          "text": [
            "Thread-47  has started\n",
            "Thread-48  has started\n"
          ]
        }
      ]
    },
    {
      "cell_type": "markdown",
      "source": [
        "Progrqamming the scenario"
      ],
      "metadata": {
        "id": "vXLDU0yYIRtT"
      }
    },
    {
      "cell_type": "code",
      "source": [
        "from threading import *\n",
        "class flighReservation:\n",
        "  l=Semaphore()\n",
        "  def __init__(self,ticket_left):\n",
        "    self.ticket_left=ticket_left\n",
        "  l.acquire()\n",
        "  def buy(self,ticketRequested):\n",
        "    if(self.ticket_left>=ticketRequested):\n",
        "      print('Your ticket is confirmed')\n",
        "      print('Plz make a payment and take your ticket')\n",
        "      self.ticket_left-=ticketRequested\n",
        "    else:\n",
        "      print('there is not enough ticket remaining')\n",
        "  l.release()\n",
        "myjob=flighReservation(10)\n",
        "t1=Thread(target=myjob.buy,args=[3])\n",
        "t2=Thread(target=myjob.buy,args=[4])\n",
        "t3=Thread(target=myjob.buy,args=[5])\n",
        "t1.start()\n",
        "t2.start()\n",
        "t3.start()"
      ],
      "metadata": {
        "colab": {
          "base_uri": "https://localhost:8080/"
        },
        "id": "_ij-IVV0IVso",
        "outputId": "654b43b5-d902-43cc-dcb5-a2cd8d97d49c"
      },
      "execution_count": 51,
      "outputs": [
        {
          "output_type": "stream",
          "name": "stdout",
          "text": [
            "Your ticket is confirmed\n",
            "Plz make a payment and take your ticket\n",
            "Your ticket is confirmed\n",
            "Plz make a payment and take your ticket\n",
            "there is not enough ticket remaining\n"
          ]
        }
      ]
    }
  ]
}